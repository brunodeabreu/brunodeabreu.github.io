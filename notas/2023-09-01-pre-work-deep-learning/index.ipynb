{
  "cells": [
    {
      "cell_type": "raw",
      "metadata": {},
      "source": [
        "---\n",
        "title: \"Deep learning for Coders fast.ai\"\n",
        "description: |\n",
        "  Pre-Work : a hands-on coding course from fast.ai\n",
        "author:\n",
        "  - name: Bruno\n",
        "    url: https://brunodeabreu.github.io\n",
        "#    orcid: 0000-0002-5300-3075\n",
        "#    affiliation: Master of Environmental Data Science Program @ The Bren School (UCSB) & The National Center for Ecological Analysis and Synthesis\n",
        "#    affiliation-url: https://ucsb-meds.github.io/\n",
        "date: 2023-09-01\n",
        "categories: [DL, python]\n",
        "image: img/deep_learning.jpeg\n",
        "---"
      ],
      "id": "e47b3146"
    },
    {
      "cell_type": "markdown",
      "metadata": {},
      "source": [
        "# 1. Terminal\n",
        "\n",
        "\n",
        "On Windows we can install PowerShell and WSL using, the first time you\n",
        "\n",
        "\n",
        "```{bash}\n",
        "wsl --install\n",
        "```\n",
        "\n",
        "\n",
        "* Tips :\n",
        "    * Terminal Full Screen : `<Alt+Enter>`\n",
        "    * Switch between users : `sudo -u <user> -i`\n",
        "    * Check version and python location : `which python`\n",
        "    * Install everything in `homedir` to do not mix the system python/files with our version of python used to DEV and experiment\n"
      ],
      "id": "3dadb2ad"
    }
  ],
  "metadata": {
    "kernelspec": {
      "display_name": "Python 3",
      "language": "python",
      "name": "python3"
    }
  },
  "nbformat": 4,
  "nbformat_minor": 5
}